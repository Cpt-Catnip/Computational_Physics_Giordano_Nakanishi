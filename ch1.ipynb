{
 "cells": [
  {
   "cell_type": "code",
   "execution_count": 1,
   "metadata": {},
   "outputs": [],
   "source": [
    "import numpy as np\n",
    "import pandas as pd\n",
    "import matplotlib.pyplot as plt"
   ]
  },
  {
   "cell_type": "markdown",
   "metadata": {},
   "source": [
    "## Chapter 1\n",
    "# A First Numerical Problem"
   ]
  },
  {
   "cell_type": "markdown",
   "metadata": {},
   "source": [
    "### 1.1 Radioactive Decay\n",
    "\n",
    "Uranium-235, $^{235}\\text{U}$, has some probability of decaying into two smaller nuclei. This isotope has a mean lifetime of $1\\times10^9$ years. Let $N_U(t)$ be the number of uranium nuclei in a sample for a given time $t$. Then the bahavior is goverened by\n",
    "\n",
    "$$\\frac{dN_U}{dt}=-\\frac{N_U}{\\tau},$$\n",
    "\n",
    "where $\\tau$ is the time constant for decay. By direct substitution, the solution to this equation is\n",
    "\n",
    "$$N_U = N_U(0) e^{-t/\\tau},$$\n",
    "\n",
    "where $N_U(0)$ is the number of nucleri at time $t=0$. Note that at time $t=\\tau$ a fraction $e^{-1}$ of the nuclei have decayed. $\\tau$ is also the mean lifetime of a nucleus."
   ]
  },
  {
   "cell_type": "markdown",
   "metadata": {},
   "source": [
    "### 1.2 A Numerical Approach\n",
    "\n",
    "We want to be able to estimate the value of $N_U$ at later times given a value at time $t$ (usually $t=0$). This is called an initial value problem. The solution to these types of problems are based on the Taylor Expansion for $N_U$,\n",
    "\n",
    "$$N_U(\\Delta t) = N_U(0) + \\frac{dN_U}{dt}\\Delta t + \\frac{1}{2}\\frac{d^2N_U}{dt^2}(\\Delta t)^2 + \\text{  }...\\text{ }$$\n",
    "\n",
    "If we assume $\\Delta t$ is small, then we can ignore terms that are second order and higher, leaving\n",
    "\n",
    "$$N_U(\\Delta t) \\approx N_U(0) + \\frac{dN_U}{dt}\\Delta t$$\n",
    "\n",
    "The same result can be obtained from the definition of a derivative.\n",
    "\n",
    "$$\\frac{dN_U}{dt} \\equiv \\lim_{\\Delta t \\to 0}\\frac{N_U(t+\\Delta t)-N_U(t)}{\\Delta t} \\approx \\frac{N_U(t+\\Delta t)-N_U(t)}{\\Delta t}$$\n",
    "\n",
    "$$ N_U(t+\\Delta t) \\approx N_U(t) + \\frac{dN_U}{dt}\\Delta t$$\n",
    "\n",
    "The derivative of $N_U$ was derived in section 1.1, so we can intsert it into the above equation leaving us with\n",
    "\n",
    "$$N_U(t+\\Delta t) \\approx N_U(t) - \\frac{N_U(t)}{\\tau}\\Delta t.$$\n",
    "\n",
    "This approach is known as the *Euler Method*."
   ]
  }
 ],
 "metadata": {
  "kernelspec": {
   "display_name": "Python 3",
   "language": "python",
   "name": "python3"
  },
  "language_info": {
   "codemirror_mode": {
    "name": "ipython",
    "version": 3
   },
   "file_extension": ".py",
   "mimetype": "text/x-python",
   "name": "python",
   "nbconvert_exporter": "python",
   "pygments_lexer": "ipython3",
   "version": "3.6.4"
  }
 },
 "nbformat": 4,
 "nbformat_minor": 2
}
