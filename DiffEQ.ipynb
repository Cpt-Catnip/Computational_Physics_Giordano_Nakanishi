{
 "cells": [
  {
   "cell_type": "code",
   "execution_count": null,
   "metadata": {},
   "outputs": [],
   "source": [
    "import numpy as np\n",
    "import pandas as pd\n",
    "import matplotlib.pyplot as plt"
   ]
  },
  {
   "cell_type": "markdown",
   "metadata": {},
   "source": [
    "# Elementary Differential Equations and Boundary Value Problems - Boyce and DiPrima, 10th edition\n",
    "\n",
    "This notebook will contain notes from *Boyce and DiPrima* relevant to problems and concepts in *Giordano and Nakanishi*."
   ]
  },
  {
   "cell_type": "markdown",
   "metadata": {},
   "source": [
    "### Boyce and DiPrima chapter 1.2\n",
    "Consider the differential equation\n",
    "\n",
    "$$ \\frac{dy}{dt} = ay - b $$\n",
    "\n",
    "with initial condition $y(0) = y_0$. Assuming $ a \\neq 0$ and $y \\neq b/a$, the equation can be rewritten as \n",
    "\n",
    "$$ \\frac{dy/dt}{y-(b/a)} = a $$\n",
    "\n",
    "Integrate both sides to find\n",
    "\n",
    "$$ ln\\lvert y-(b/a)\\rvert= at+C $$\n",
    "\n",
    "where $C$ is arbitrary. Now take the exponential of each side and solve for $y$!\n",
    "\n",
    "$$ y = (b/a) +ce^{at} $$\n",
    "\n",
    "$c=\\pm e^C$ is also arbitrary. Note that $c=0$ corresponds to the equilibrium conditoin $y=b/a$ and the initial condition requires that $c=y_0 0 (b/a)$, so $c$ in the above equation can be replaced and we finally get\n",
    "\n",
    "$$ y = (b/a)+ [y_0 - (b/a)]e^{at} $$"
   ]
  },
  {
   "cell_type": "markdown",
   "metadata": {},
   "source": [
    "### Boyce and DiPrima chapter 2.1 - Method of Integrating Factors\n",
    "\n",
    "Consider the differential equation \n",
    "\n",
    "$$\\frac{dy}{dt} + ay = g(t) $$\n",
    "\n",
    "as we have in *Giordano and Nakanishi* problem 1.4. To solve this we need to multiply both sides of the equation by integrating factor $\\mu$. By multiplying by some yet to be determined integrating factor, we can make the equation such that the left is the derivative of the right side. In this general case, $\\mu(t)$ must satisfy\n",
    "\n",
    "$$\\frac{d\\mu}{dt} = a\\mu $$\n",
    "\n",
    "Therefore the integrating factor is $\\mu(t) = e^{at} $. Multiply through, we get\n",
    "\n",
    "$$ e^{at}\\frac{dy}{dt} + ae^{at}y = e^{at}g(t) $$\n",
    "or\n",
    "$$\\frac{d}{dt}(e^{at}y) = e^{at}g(t) $$\n",
    "\n",
    "Integrate both sides to get\n",
    "\n",
    "$$ e^{at}y = \\int e^{at}g(t)dt + c $$\n",
    "\n",
    "Where $c$ is an arbitrary constant. Solving for y, we get\n",
    "\n",
    "$$ y = e^{-at}\\int\\limits_{t_0}^te^{as}g(s)ds + ce^{-at} $$"
   ]
  }
 ],
 "metadata": {
  "kernelspec": {
   "display_name": "Python 3",
   "language": "python",
   "name": "python3"
  },
  "language_info": {
   "codemirror_mode": {
    "name": "ipython",
    "version": 3
   },
   "file_extension": ".py",
   "mimetype": "text/x-python",
   "name": "python",
   "nbconvert_exporter": "python",
   "pygments_lexer": "ipython3",
   "version": "3.6.4"
  }
 },
 "nbformat": 4,
 "nbformat_minor": 2
}
